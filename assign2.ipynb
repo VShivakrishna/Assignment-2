{
 "cells": [
  {
   "cell_type": "code",
   "execution_count": 49,
   "id": "52bac6c0",
   "metadata": {
    "scrolled": true
   },
   "outputs": [
    {
     "name": "stdout",
     "output_type": "stream",
     "text": [
      "Shape of vector:\n",
      "(3, 5)\n",
      "[[ 2  4  7  0  8]\n",
      " [ 2  0 14  3 17]\n",
      " [ 0  1  3 10  8]]\n"
     ]
    }
   ],
   "source": [
    "import numpy as np\n",
    "arr = np.random.choice(np.arange(20), size=15)\n",
    "new_arr = arr.reshape((3,5))\n",
    "print(\"Shape of vector:\")\n",
    "print(new_arr.shape)\n",
    "new_arr[np.arange(len(new_arr)), new_arr.argmax(1)] = 0\n",
    "print(new_arr)"
   ]
  },
  {
   "cell_type": "code",
   "execution_count": 81,
   "id": "7d084ed4",
   "metadata": {},
   "outputs": [
    {
     "name": "stdout",
     "output_type": "stream",
     "text": [
      "     Duration  Pulse  Maxpulse  Calories\n",
      "0          60    110       130     409.1\n",
      "1          60    117       145     479.0\n",
      "2          60    103       135     340.0\n",
      "3          45    109       175     282.4\n",
      "4          45    117       148     406.0\n",
      "..        ...    ...       ...       ...\n",
      "164        60    105       140     290.8\n",
      "165        60    110       145     300.0\n",
      "166        60    115       145     310.2\n",
      "167        75    120       150     320.4\n",
      "168        75    125       150     330.4\n",
      "\n",
      "[169 rows x 4 columns]\n",
      "---------------------------------------------------------\n",
      "               Duration               Maxpulse                \n",
      "                    min max count sum      min  max count  sum\n",
      "Pulse Calories                                                \n",
      "80    50.5           15  15     1  15      100  100     1  100\n",
      "      240.9          30  30     1  30      120  120     1  120\n",
      "83    50.3           20  20     1  20      107  107     1  107\n",
      "85    250.4          30  30     1  30      120  120     1  120\n",
      "90    86.2           30  30     1  30      120  120     1  120\n",
      "...                 ...  ..   ...  ..      ...  ...   ...  ...\n",
      "151   229.4          20  20     1  20      168  168     1  168\n",
      "      300.0          30  30     1  30      170  170     1  170\n",
      "152   244.2          25  25     1  25      168  168     1  168\n",
      "153   226.4          20  20     1  20      172  172     1  172\n",
      "159   319.2          30  30     1  30      182  182     1  182\n",
      "\n",
      "[160 rows x 8 columns]\n",
      "---------------------------------------------------------\n",
      "     Duration  Pulse  Maxpulse  Calories\n",
      "51         80    123       146     643.1\n",
      "62        160    109       135     853.0\n",
      "65        180     90       130     800.4\n",
      "66        150    105       135     873.4\n",
      "67        150    107       130     816.0\n",
      "72         90    100       127     700.0\n",
      "73        150     97       127     953.2\n",
      "75         90     98       125     563.2\n",
      "78        120    100       130     500.4\n",
      "90        180    101       127     600.1\n",
      "99         90     93       124     604.1\n",
      "103        90     90       100     500.4\n",
      "106       180     90       120     800.3\n",
      "108        90     90       120     500.3\n",
      "---------------------------------------------------------\n",
      "     Duration  Pulse  Maxpulse  Calories\n",
      "65        180     90       130     800.4\n",
      "70        150     97       129    1115.0\n",
      "73        150     97       127     953.2\n",
      "75         90     98       125     563.2\n",
      "99         90     93       124     604.1\n",
      "103        90     90       100     500.4\n",
      "106       180     90       120     800.3\n",
      "108        90     90       120     500.3\n",
      "---------------------------------------------------------\n",
      "     Duration  Pulse  Calories\n",
      "0          60    110     409.1\n",
      "1          60    117     479.0\n",
      "2          60    103     340.0\n",
      "3          45    109     282.4\n",
      "4          45    117     406.0\n",
      "..        ...    ...       ...\n",
      "164        60    105     290.8\n",
      "165        60    110     300.0\n",
      "166        60    115     310.2\n",
      "167        75    120     320.4\n",
      "168        75    125     330.4\n",
      "\n",
      "[169 rows x 3 columns]\n",
      "---------------------------------------------------------\n",
      "     Duration  Pulse  Calories\n",
      "0          60    110     409.1\n",
      "1          60    117     479.0\n",
      "2          60    103     340.0\n",
      "3          45    109     282.4\n",
      "4          45    117     406.0\n",
      "..        ...    ...       ...\n",
      "164        60    105     290.8\n",
      "165        60    110     300.0\n",
      "166        60    115     310.2\n",
      "167        75    120     320.4\n",
      "168        75    125     330.4\n",
      "\n",
      "[169 rows x 3 columns]\n",
      "---------------------------------------------------------\n"
     ]
    },
    {
     "data": {
      "image/png": "[encoded data removed]",
      "text/plain": [
       "<Figure size 432x288 with 1 Axes>"
      ]
     },
     "metadata": {
      "needs_background": "light"
     },
     "output_type": "display_data"
    }
   ],
   "source": [
    "import pandas as pd\n",
    "import matplotlib.pyplot as plt\n",
    "df = pd.read_csv('data.csv')\n",
    "# Filling missing values with mean\n",
    "for name in df.columns:\n",
    "    df[name].fillna(df[name].mean(), inplace=True)\n",
    "print(df)\n",
    "print(\"---------------------------------------------------------\")\n",
    "# Aggregate functions\n",
    "grouped_data = df.groupby(['Pulse','Calories']).agg(['min', 'max','count','sum'])\n",
    "print(grouped_data)\n",
    "print(\"---------------------------------------------------------\")\n",
    "# Filter data by calories\n",
    "print(df.query(\"`Calories` >500 and `Calories`< 1000\"))\n",
    "print(\"---------------------------------------------------------\")\n",
    "#Filter data by calories and pulse\n",
    "print(df.query(\"`Calories` > 500 and `Pulse`< 100\"))\n",
    "print(\"---------------------------------------------------------\")\n",
    "#creating new Data frame\n",
    "df_modified = df.loc[:,df.columns!='Maxpulse']\n",
    "print(df_modified)\n",
    "print(\"---------------------------------------------------------\")\n",
    "#deleting maxpulse from maindataframe\n",
    "del df['Maxpulse']\n",
    "print(df)\n",
    "print(\"---------------------------------------------------------\")\n",
    "#converting to int\n",
    "df['Pulse'] = pd.to_numeric(df['Pulse'])\n",
    "#Graph between duration and Calories\n",
    "plt.scatter(df['Duration'],df['Calories'])\n",
    "plt.xlabel('Duration')\n",
    "plt.ylabel('Calories')\n",
    "plt.show()"
   ]
  },
  {
   "cell_type": "code",
   "execution_count": 86,
   "id": "c7396bb4",
   "metadata": {},
   "outputs": [
    {
     "data": {
      "image/png": "[encoded data removed]",
      "text/plain": [
       "<Figure size 432x288 with 1 Axes>"
      ]
     },
     "metadata": {},
     "output_type": "display_data"
    }
   ],
   "source": [
    "import matplotlib.pyplot as plt\n",
    "import numpy as np\n",
    "\n",
    "popularity = np.array([22.2, 17.6, 8.8, 8, 7.7, 6.7])\n",
    "programmingLanguages = ['Java', 'Python', 'PHP', 'JavaScript', 'C#', 'C++']\n",
    "myData = [0.2,0,0,0,0,0]\n",
    "plt.pie(popularity, labels = programmingLanguages,explode = myData, shadow = True,autopct='%1.1f%%')\n",
    "plt.show()"
   ]
  },
  {
   "cell_type": "code",
   "execution_count": null,
   "id": "55874572",
   "metadata": {},
   "outputs": [],
   "source": []
  }
 ],
 "metadata": {
  "kernelspec": {
   "display_name": "Python 3 (ipykernel)",
   "language": "python",
   "name": "python3"
  },
  "language_info": {
   "codemirror_mode": {
    "name": "ipython",
    "version": 3
   },
   "file_extension": ".py",
   "mimetype": "text/x-python",
   "name": "python",
   "nbconvert_exporter": "python",
   "pygments_lexer": "ipython3",
   "version": "3.9.12"
  }
 },
 "nbformat": 4,
 "nbformat_minor": 5
}
